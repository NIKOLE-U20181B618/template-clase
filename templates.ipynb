{
  "nbformat": 4,
  "nbformat_minor": 0,
  "metadata": {
    "colab": {
      "name": "templates.ipynb",
      "provenance": [],
      "toc_visible": true,
      "authorship_tag": "ABX9TyNClTKTpaExJuldzDihRs4q",
      "include_colab_link": true
    },
    "kernelspec": {
      "name": "python3",
      "display_name": "Python 3"
    },
    "language_info": {
      "name": "python"
    }
  },
  "cells": [
    {
      "cell_type": "markdown",
      "metadata": {
        "id": "view-in-github",
        "colab_type": "text"
      },
      "source": [
        "<a href=\"https://colab.research.google.com/github/NIKOLE-U20181B618/template-clase/blob/main/templates.ipynb\" target=\"_parent\"><img src=\"https://colab.research.google.com/assets/colab-badge.svg\" alt=\"Open In Colab\"/></a>"
      ]
    },
    {
      "cell_type": "code",
      "execution_count": null,
      "metadata": {
        "colab": {
          "base_uri": "https://localhost:8080/"
        },
        "id": "i68EYPVAmHxp",
        "outputId": "d1b38485-9581-4db3-b441-a82a3c35e593"
      },
      "outputs": [
        {
          "output_type": "stream",
          "name": "stdout",
          "text": [
            "Writing biblioteca.hpp\n"
          ]
        }
      ],
      "source": [
        "%%writefile biblioteca.hpp\n",
        "#include <iostream>\n",
        "#include <cstdlib>// srand, rand\n",
        "#include <ctime>//time\n",
        "\n",
        "using std::cout;\n",
        "using std::cin;\n",
        "//definición de la funcion\n",
        "void generar(short* a, size_t n);\n",
        "void listar(short*, size_t);\n",
        "void mayor(short*, size_t);\n",
        "void ordenar(short*, size_t);\n",
        "void mayorPromedio(short* a, size_t n);"
      ]
    },
    {
      "cell_type": "code",
      "source": [
        "%%writefile biblioteca.cpp\n",
        "#include \"biblioteca.hpp\"\n",
        "\n",
        "void generar(short* a, size_t n){\n",
        "  for(size_t i=0;i<n;++i){\n",
        "      a[i]=rand()%101+100;//rango de 100 a 200    \n",
        "  }  \n",
        "}\n",
        "\n",
        "void listar(short* a, size_t n){\n",
        "for(size_t i=0;i<n;++i){\n",
        "      cout<<i<<\"-> \"<<a[i]<<\"\\n\";\n",
        "  }  \n",
        "}\n",
        "\n",
        "void mayor(short* a, size_t n){\n",
        "  short _mayor=a[0], _pos=-1;\n",
        "  \n",
        "for(size_t i=1;i<n;++i){\n",
        "  if(a[i]>_mayor){\n",
        "      _mayor=a[i];//actualizo el mayor\n",
        "      _pos=i;\n",
        "    }\n",
        "  }\n",
        "  cout<<\"El mayor valor es\"<<_mayor<<\" y se encuentra en la posicion\"<<_pos<<\"\\n\";\n",
        "}\n",
        "void ordenar(short* a, size_t n){\n",
        "  for(int i=0;i<n-1;++i){\n",
        "  for(int j=i+1;j<n;++j){\n",
        "   if(a[i]>a[j]){\n",
        "    short aux=a[i];\n",
        "    a[i]=a[j];\n",
        "    a[j]=aux;\n",
        "  }\n",
        "}\n",
        "    }\n",
        "}\n",
        "void mayorPromedio(short* a, size_t n){\n",
        "  float prom=0.0f;    \n",
        "  //obteniendo el promedio\n",
        "  for(int i=0;i<n-1;++i)\n",
        "        prom+=a[i];\n",
        "  prom/=n;//prom=prom/n   \n",
        "  //listar mayor al promedio\n",
        "  for(int i=0;i<n-1;++i)\n",
        "        if(a[i]>prom)cout<<i<<\"->\"<<a[i]<<\"\\n\";\n",
        "  }\n",
        "\n",
        "\n"
      ],
      "metadata": {
        "colab": {
          "base_uri": "https://localhost:8080/"
        },
        "id": "49Khi9T8mk6W",
        "outputId": "15e46fd5-f1b0-42df-9b8a-cd3426e35662"
      },
      "execution_count": null,
      "outputs": [
        {
          "output_type": "stream",
          "name": "stdout",
          "text": [
            "Writing biblioteca.cpp\n"
          ]
        }
      ]
    },
    {
      "cell_type": "code",
      "source": [
        "%%writefile main.cpp\n",
        "#include \"biblioteca.hpp\"\n",
        "int main() {\n",
        "short* arreglo=new short[100];  \n",
        "srand(time(NULL));//inicializacion de la semilla\n",
        "generar(arreglo,100);\n",
        "listar(arreglo, 100);\n",
        "//mayor(arreglo, 100);  \n",
        "ordenar(arreglo, 100);\n",
        "cout<<\"-------------\\n\";\n",
        "//listar(arreglo, 100);\n",
        "  mayorPromedio(arreglo, 100);\n",
        "}"
      ],
      "metadata": {
        "colab": {
          "base_uri": "https://localhost:8080/"
        },
        "id": "LTc88Tl9m-Xv",
        "outputId": "f34a4411-8f5a-4a0a-efb6-347948a47f29"
      },
      "execution_count": null,
      "outputs": [
        {
          "output_type": "stream",
          "name": "stdout",
          "text": [
            "Overwriting main.cpp\n"
          ]
        }
      ]
    },
    {
      "cell_type": "code",
      "source": [
        "!g++ biblioteca.cpp main.cpp && ./a.out"
      ],
      "metadata": {
        "id": "ndwxVY0UnuJ2"
      },
      "execution_count": null,
      "outputs": []
    },
    {
      "cell_type": "markdown",
      "source": [
        "# Ejemplo 3 "
      ],
      "metadata": {
        "id": "8AVcKa1LqPNO"
      }
    },
    {
      "cell_type": "code",
      "source": [
        "%%writefile biblioteca.hpp\n",
        "#include <iostream>\n",
        "#include <cstdlib>// srand, rand\n",
        "#include <ctime>//time\n",
        "\n",
        "using std::cout;\n",
        "using std::cin;\n",
        "template <typename Generico>\n",
        "class arreglo{\n",
        "    Generico *a;\n",
        "    size_t n;\n",
        "    size_t id;\n",
        "    public:\n",
        "    arreglo(){\n",
        "        n=10;\n",
        "        a = new Generico[n];\n",
        "        id=0;\n",
        "    }\n",
        "    void insertar(Generico e){\n",
        "        if(id<n)\n",
        "            a[id++]=e;//primero se asigna y luego se incrementa\n",
        "    }\n",
        "    void listar(){\n",
        "    for(size_t i=0;i<n;++i){\n",
        "      cout<<i<<\"-> \"<<a[i]<<\"\\n\";\n",
        "    }  \n",
        "    }\n",
        "\n",
        "};\n"
      ],
      "metadata": {
        "colab": {
          "base_uri": "https://localhost:8080/"
        },
        "id": "eRMxLs7rqSUE",
        "outputId": "abec5891-a38b-41bf-885b-4e3047cce418"
      },
      "execution_count": null,
      "outputs": [
        {
          "output_type": "stream",
          "name": "stdout",
          "text": [
            "Overwriting biblioteca.hpp\n"
          ]
        }
      ]
    },
    {
      "cell_type": "code",
      "source": [
        "%%writefile ejemplo3.cpp\n",
        "#include \"biblioteca.hpp\"\n",
        "int main(){\n",
        "    Arreglo <short>* a1 = new Arreglo <short>();\n",
        "    Arreglo <float>* a2 = new Arreglo <float>();\n",
        "    Arreglo <long>* a3 = new Arreglo <long>();\n",
        "    for(int i=0;i<10;i++){\n",
        "        arr1->insertar(i);\n",
        "        arr2->insertar(i*1.987);\n",
        "        arr3->insertar(i*1000000);\n",
        "    }\n",
        "    arr1->listar();\n",
        "\n",
        "    cout<<\"\\n\";\n",
        "\n",
        "    arr2->listar();\n",
        "\n",
        "    cout<<\"\\n\";\n",
        "\n",
        "    arr3->listar();\n",
        "    return 0;\n",
        "}"
      ],
      "metadata": {
        "colab": {
          "base_uri": "https://localhost:8080/"
        },
        "id": "ZRQbsDSOwHC7",
        "outputId": "e778481c-7c0a-4b4d-e0fb-e22b4d66a22a"
      },
      "execution_count": null,
      "outputs": [
        {
          "output_type": "stream",
          "name": "stdout",
          "text": [
            "Writing ejemplo3.cpp\n"
          ]
        }
      ]
    },
    {
      "cell_type": "code",
      "source": [
        "!g++ biblioteca.cpp ejemplo3.cpp && ./a.out"
      ],
      "metadata": {
        "colab": {
          "base_uri": "https://localhost:8080/"
        },
        "id": "v5fjAoQgxiAW",
        "outputId": "b105ce32-9c81-43e4-f392-9e805922d329"
      },
      "execution_count": null,
      "outputs": [
        {
          "output_type": "stream",
          "name": "stdout",
          "text": [
            "\u001b[01m\u001b[Kejemplo3.cpp:1:10:\u001b[m\u001b[K \u001b[01;31m\u001b[Kerror: \u001b[m\u001b[K#include expects \"FILENAME\" or <FILENAME>\n",
            " #include \u001b[01;31m\u001b[Kbiblioteca\u001b[m\u001b[K.hpp\n",
            "          \u001b[01;31m\u001b[K^~~~~~~~~~\u001b[m\u001b[K\n",
            "\u001b[01m\u001b[Kejemplo3.cpp:\u001b[m\u001b[K In function ‘\u001b[01m\u001b[Kint main()\u001b[m\u001b[K’:\n",
            "\u001b[01m\u001b[Kejemplo3.cpp:3:5:\u001b[m\u001b[K \u001b[01;31m\u001b[Kerror: \u001b[m\u001b[K‘\u001b[01m\u001b[KArreglo\u001b[m\u001b[K’ was not declared in this scope\n",
            "     \u001b[01;31m\u001b[KArreglo\u001b[m\u001b[K <short>* a1 = new Arreglo <short>();\n",
            "     \u001b[01;31m\u001b[K^~~~~~~\u001b[m\u001b[K\n",
            "\u001b[01m\u001b[Kejemplo3.cpp:3:14:\u001b[m\u001b[K \u001b[01;31m\u001b[Kerror: \u001b[m\u001b[Kexpected primary-expression before ‘\u001b[01m\u001b[Kshort\u001b[m\u001b[K’\n",
            "     Arreglo <\u001b[01;31m\u001b[Kshort\u001b[m\u001b[K>* a1 = new Arreglo <short>();\n",
            "              \u001b[01;31m\u001b[K^~~~~\u001b[m\u001b[K\n",
            "\u001b[01m\u001b[Kejemplo3.cpp:4:14:\u001b[m\u001b[K \u001b[01;31m\u001b[Kerror: \u001b[m\u001b[Kexpected primary-expression before ‘\u001b[01m\u001b[Kfloat\u001b[m\u001b[K’\n",
            "     Arreglo <\u001b[01;31m\u001b[Kfloat\u001b[m\u001b[K>* a2 = new Arreglo <float>();\n",
            "              \u001b[01;31m\u001b[K^~~~~\u001b[m\u001b[K\n",
            "\u001b[01m\u001b[Kejemplo3.cpp:5:14:\u001b[m\u001b[K \u001b[01;31m\u001b[Kerror: \u001b[m\u001b[Kexpected primary-expression before ‘\u001b[01m\u001b[Klong\u001b[m\u001b[K’\n",
            "     Arreglo <\u001b[01;31m\u001b[Klong\u001b[m\u001b[K>* a3 = new Arreglo <long>();\n",
            "              \u001b[01;31m\u001b[K^~~~\u001b[m\u001b[K\n"
          ]
        }
      ]
    },
    {
      "cell_type": "markdown",
      "source": [
        "# pos fijo y sub fijo"
      ],
      "metadata": {
        "id": "Ov6kFYWiv5ee"
      }
    },
    {
      "cell_type": "code",
      "source": [
        "%%writefile demo.cpp\n",
        "#include <iostream>\n",
        "using namespace std;\n",
        "int main(){\n",
        "    int a, b;\n",
        "    a=10;\n",
        "    b=a++;\n",
        "    cout << b << endl;\n",
        "    return 0;"
      ],
      "metadata": {
        "id": "6CBZlC4Rv9ZU"
      },
      "execution_count": null,
      "outputs": []
    },
    {
      "cell_type": "code",
      "source": [
        "!g++ biblioteca.cpp demo.cpp && ./a.out"
      ],
      "metadata": {
        "id": "Ew2oep0Hv-YM"
      },
      "execution_count": null,
      "outputs": []
    }
  ]
}